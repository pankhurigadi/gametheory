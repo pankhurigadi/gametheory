{
 "cells": [
  {
   "cell_type": "markdown",
   "metadata": {},
   "source": [
    "# Finding the coarse correlated equilibrium (CCE) using Python"
   ]
  },
  {
   "cell_type": "markdown",
   "metadata": {},
   "source": [
    "Here is an example of how we can implement an algorithm to find the coarse correlated equilibrium (CCE) in a 2-player game using Python."
   ]
  },
  {
   "cell_type": "markdown",
   "metadata": {},
   "source": [
    "# What is coarse correlated equilibrium?"
   ]
  },
  {
   "cell_type": "markdown",
   "metadata": {},
   "source": [
    "Coarse correlated equilibrium (CCE) is a concept in game theory, specifically in the field of repeated games with incomplete information. It extends the idea of correlated equilibrium to repeated games.\n",
    "\n",
    "In game theory, an equilibrium is a state where no player has an incentive to deviate from their current strategy given the strategies of the other players. In a correlated equilibrium, a third party (a mediator) suggests a probability distribution over the joint strategies of the players. Each player then independently chooses their strategy based on the advice received from the mediator.\n",
    "\n",
    "A coarse correlated equilibrium relaxes the requirement of a precise correlation device. In a CCE, players' strategies are to commit to the correlation device or to deviate and play a different strategy. A coarse correlated equilibrium exists when accepting the device is the best response for each player when all others are also accepting.\n",
    "\n",
    "The concept is particularly relevant in settings where players may not have access to a centralized mediator or communication channel but can use imprecise signals or randomization to achieve coordination."
   ]
  },
  {
   "cell_type": "markdown",
   "metadata": {},
   "source": [
    "# Defining the algorithm in Python"
   ]
  },
  {
   "cell_type": "markdown",
   "metadata": {},
   "source": [
    "First, we want to define a function \"cce\", which takes as input a tuple \"game\" representing the payoffs for the two players as well as two optional parameters \"num_samples\" and \"tolerance\". \n",
    "\n",
    "\"num_samples\" determines the number of samples to take when approximating the CCE, and tolerance controls the level of tolerance for convergence of the algorithm."
   ]
  },
  {
   "cell_type": "code",
   "execution_count": 3,
   "metadata": {},
   "outputs": [],
   "source": [
    "import numpy as np\n",
    "\n",
    "def cce(game, num_samples=1000, tolerance=1e-6):\n",
    "    # game is a tuple of two matrices representing the payoffs for players 1 and 2\n",
    "    num_strategies_p1 = game[0].shape[1]\n",
    "    num_strategies_p2 = game[1].shape[1]\n",
    "    strategy_probs = np.ones((num_strategies_p1, num_strategies_p2)) / (num_strategies_p1 * num_strategies_p2)\n",
    "\n",
    "    for _ in range(num_samples):\n",
    "        # Sample a strategy profile from the distribution\n",
    "        p1_strategy, p2_strategy = np.unravel_index(np.random.choice(strategy_probs.size, p=strategy_probs.ravel()), strategy_probs.shape)\n",
    "        \n",
    "        # Calculate the expected payoff for each player at this strategy profile\n",
    "        expected_payoff_p1 = np.sum(game[0][:,p2_strategy] * strategy_probs[p1_strategy,p2_strategy])\n",
    "        expected_payoff_p2 = np.sum(game[1][p1_strategy,:] * strategy_probs[p1_strategy,p2_strategy])\n",
    "        \n",
    "        # Update the strategy probability distribution\n",
    "        strategy_probs[p1_strategy,p2_strategy] *= (1 + tolerance * (expected_payoff_p1 - expected_payoff_p2))\n",
    "        strategy_probs /= np.sum(strategy_probs)\n",
    "    \n",
    "    # The final strategy probability distribution is a CCE\n",
    "    return strategy_probs\n"
   ]
  },
  {
   "cell_type": "markdown",
   "metadata": {},
   "source": [
    "The algorithm works by iteratively sampling a strategy profile from the current probability distribution over strategies, and updating the distribution based on the expected payoffs at that profile. The process continues until the probability distribution converges to a fixed point.\n",
    "\n",
    "To run the function, simply call it with the game matrix as input, like this:"
   ]
  },
  {
   "cell_type": "code",
   "execution_count": 4,
   "metadata": {},
   "outputs": [
    {
     "name": "stdout",
     "output_type": "stream",
     "text": [
      "[[0.24999877 0.24989338]\n",
      " [0.25010907 0.24999877]]\n"
     ]
    }
   ],
   "source": [
    "game = (np.array([[3, 0], [5, 1]]), np.array([[3, 5], [0, 1]]))\n",
    "strategy_probs = cce(game)\n",
    "print(strategy_probs)\n"
   ]
  },
  {
   "cell_type": "markdown",
   "metadata": {},
   "source": [
    "This would output the probability distribution over strategies that represents a CCE for the given game."
   ]
  }
 ],
 "metadata": {
  "kernelspec": {
   "display_name": "Python 3",
   "language": "python",
   "name": "python3"
  },
  "language_info": {
   "codemirror_mode": {
    "name": "ipython",
    "version": 3
   },
   "file_extension": ".py",
   "mimetype": "text/x-python",
   "name": "python",
   "nbconvert_exporter": "python",
   "pygments_lexer": "ipython3",
   "version": "3.8.5"
  }
 },
 "nbformat": 4,
 "nbformat_minor": 4
}
