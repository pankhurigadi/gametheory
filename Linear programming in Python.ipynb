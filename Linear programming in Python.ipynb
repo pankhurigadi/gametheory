{
 "cells": [
  {
   "cell_type": "markdown",
   "metadata": {},
   "source": [
    "# Linear programming\n"
   ]
  },
  {
   "cell_type": "markdown",
   "metadata": {},
   "source": [
    "Linear programming is an optimisation technique used when all the objectives and constraints are linear. \n",
    "\n",
    "It is the easiest type of optimisation model used in decision making that seeks for the best design and operation of a system under conditions of requiring allocation of scarce resources."
   ]
  },
  {
   "cell_type": "markdown",
   "metadata": {},
   "source": [
    "# 3 main components"
   ]
  },
  {
   "cell_type": "markdown",
   "metadata": {},
   "source": [
    "Objective function: the function to be optimised (maximised or minimised)\n",
    "\n",
    "Decision variables: controllable variables that influence the performance of the system.\n",
    "\n",
    "Constraints: set of restrictions (linear equalities or inequalities) od decision variables. A non-negativity constraint limits the decision variables to take positive values."
   ]
  },
  {
   "cell_type": "markdown",
   "metadata": {},
   "source": [
    "# Using SciPy \"linprog\" function in Python"
   ]
  },
  {
   "cell_type": "markdown",
   "metadata": {},
   "source": [
    "SciPy optimize - https://docs.scipy.org/doc/scipy/reference/generated/scipy.optimize.linprog.html#scipy.optimize.linprog\n",
    "\n",
    "Python's SciPy module contains the linprog function to solve linear programming problems.\n",
    "\n",
    "While using linprog, there are two things to consider while writing code:\n",
    "\n",
    "1. The problem must be formulated as a minimisation problem.\n",
    "2. The inequalities must be expressed as less than or equals."
   ]
  },
  {
   "cell_type": "markdown",
   "metadata": {},
   "source": [
    "# Solving a minimisation problem"
   ]
  },
  {
   "cell_type": "markdown",
   "metadata": {},
   "source": [
    "Let us take a look at an example."
   ]
  },
  {
   "attachments": {
    "Linear%20programming.png": {
     "image/png": "[encoded data removed]"
    }
   },
   "cell_type": "markdown",
   "metadata": {},
   "source": [
    "![Linear%20programming.png](attachment:Linear%20programming.png)"
   ]
  },
  {
   "cell_type": "markdown",
   "metadata": {},
   "source": [
    "# Import modules"
   ]
  },
  {
   "cell_type": "code",
   "execution_count": 9,
   "metadata": {},
   "outputs": [],
   "source": [
    "import numpy as np\n",
    "from scipy import stats\n",
    "from scipy.optimize import linprog"
   ]
  },
  {
   "cell_type": "markdown",
   "metadata": {},
   "source": [
    "# Construct matrices in appropriate format"
   ]
  },
  {
   "cell_type": "code",
   "execution_count": 11,
   "metadata": {},
   "outputs": [
    {
     "name": "stdout",
     "output_type": "stream",
     "text": [
      "     con: array([], dtype=float64)\n",
      "     fun: -21.999999840824938\n",
      " message: 'Optimization terminated successfully.'\n",
      "     nit: 6\n",
      "   slack: array([3.89999997e+01, 8.46872492e-08])\n",
      "  status: 0\n",
      " success: True\n",
      "       x: array([ 9.99999989, -2.99999999])\n"
     ]
    }
   ],
   "source": [
    "c=[-1,4]\n",
    "A=[[-3,1],[1,2]]\n",
    "b=[6,4]\n",
    "\n",
    "x0_bounds=(None,None)\n",
    "x1_bounds=(-3,None)\n",
    "\n",
    "res=linprog(c,A_ub=A, b_ub=b, bounds=[x0_bounds, x1_bounds])\n",
    "print(res)\n",
    "#note that the default method for linprog is 'interior point' which is approximate in nature."
   ]
  }
 ],
 "metadata": {
  "kernelspec": {
   "display_name": "Python 3",
   "language": "python",
   "name": "python3"
  },
  "language_info": {
   "codemirror_mode": {
    "name": "ipython",
    "version": 3
   },
   "file_extension": ".py",
   "mimetype": "text/x-python",
   "name": "python",
   "nbconvert_exporter": "python",
   "pygments_lexer": "ipython3",
   "version": "3.8.5"
  }
 },
 "nbformat": 4,
 "nbformat_minor": 4
}
